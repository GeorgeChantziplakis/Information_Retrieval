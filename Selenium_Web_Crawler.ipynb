{
 "cells": [
  {
   "cell_type": "code",
   "execution_count": 1,
   "metadata": {},
   "outputs": [],
   "source": [
    "from selenium import webdriver\n",
    "from selenium.webdriver.chrome.options import Options\n",
    "from selenium.webdriver.common.by import By\n",
    "from selenium.webdriver.support.ui import WebDriverWait\n",
    "from selenium.webdriver.support import expected_conditions as EC\n",
    "from selenium.common.exceptions import TimeoutException, WebDriverException\n",
    "import time\n",
    "from parsel import Selector\n",
    "import csv"
   ]
  },
  {
   "cell_type": "markdown",
   "metadata": {},
   "source": [
    "# 1 st Crawling the users"
   ]
  },
  {
   "cell_type": "code",
   "execution_count": 2,
   "metadata": {},
   "outputs": [],
   "source": [
    "# url = 'https://scholar.google.co.uk/citations?view_op=view_org&hl=en&org=9117984065169182779'\n",
    "   \n",
    "# options = Options()\n",
    "# options.add_argument(\"start-maximized\")\n",
    "# options.add_argument(\"disable-infobars\")\n",
    "# options.add_argument(\"--disable-extensions\")\n",
    "# driver = webdriver.Chrome( executable_path='C:/Users/giorg/chromedriver_win32/chromedriver.exe')\n",
    "# driver.get(url)\n",
    "# driver.set_page_load_timeout(5)      "
   ]
  },
  {
   "cell_type": "code",
   "execution_count": 3,
   "metadata": {
    "scrolled": true
   },
   "outputs": [],
   "source": [
    "# final_result = []\n",
    "# breaker = '' \n",
    "# names=[]\n",
    "# titles=[]\n",
    "# topics=[]\n",
    "\n",
    "# while True:\n",
    "#     try:\n",
    "#         if breaker == driver.find_element_by_xpath('//*[@id=\"gsc_authors_bottom_pag\"]/div/span').text:\n",
    "#             break\n",
    "#         breaker = driver.find_element_by_xpath('//*[@id=\"gsc_authors_bottom_pag\"]/div/span').text\n",
    "#         number_of_users = driver.find_elements_by_xpath('//*[@id=\"gsc_sa_ccl\"]/div/div/div/h3/a')               \n",
    "             \n",
    "#         time.sleep(1)\n",
    "#         for i in range(0,len(number_of_users)):\n",
    "#             name = driver.find_elements_by_xpath('//*[@id=\"gsc_sa_ccl\"]/div/div/div/h3/a')[i].text \n",
    "#             if name != \"\":\n",
    "#                 names.append(name)\n",
    "#             else:\n",
    "#                 name = \"N/A\"\n",
    "#                 names.append(name)\n",
    "#         #print(names)\n",
    "        \n",
    "#         time.sleep(1)\n",
    "#         for i in range(0,len(number_of_users)):\n",
    "#             title = driver.find_elements_by_xpath('//*[@id=\"gsc_sa_ccl\"]/div/div/div/div[1]')[i].text\n",
    "#             if title != \"\":\n",
    "#                 titles.append(title)\n",
    "#             else:\n",
    "#                 title = \"N/A\"\n",
    "#                 titles.append(title)\n",
    "#         #print(titles)\n",
    "        \n",
    "#         time.sleep(1)\n",
    "#         for i in range(0,len(number_of_users)):\n",
    "#             topic = driver.find_elements_by_xpath('//*[@id=\"gsc_sa_ccl\"]/div/div/div/div[4]')[i].text\n",
    "#             if topic != \"\":\n",
    "#                 topics.append(topic)\n",
    "#             else:\n",
    "#                 topic = \"N/A\"\n",
    "#                 topics.append(topic)\n",
    "                \n",
    "#         next_page_bt = driver.find_element_by_xpath('//*[@id=\"gsc_authors_bottom_pag\"]/div/button[2]/span/span[1]')\n",
    "#         time.sleep(1)\n",
    "#         next_page_bt.click()\n",
    "        \n",
    "#         if (breaker == driver.find_element_by_xpath('//*[@id=\"gsc_authors_bottom_pag\"]/div/span').text):\n",
    "#                 break     \n",
    "#     except (TimeoutException, WebDriverException) as e:\n",
    "#         print(\"Last page reached\")\n",
    "#         break\n",
    "# print(len(names))\n",
    "# print(len(titles))\n",
    "# print(len(topics))"
   ]
  },
  {
   "cell_type": "markdown",
   "metadata": {},
   "source": [
    "# Creating a list of dictionaries with user info"
   ]
  },
  {
   "cell_type": "code",
   "execution_count": 4,
   "metadata": {},
   "outputs": [],
   "source": [
    "# for i in range(0,len(names)):\n",
    "#     final_result.append({'Name':names[i],'Title':titles[i],'Topics':topics[i]})\n",
    "# final_result"
   ]
  },
  {
   "cell_type": "markdown",
   "metadata": {},
   "source": [
    "# Saving the crawled info into a csv file"
   ]
  },
  {
   "cell_type": "code",
   "execution_count": 5,
   "metadata": {},
   "outputs": [],
   "source": [
    "# with open('Coventry_University_profiles.csv', 'w', encoding='utf8', newline='') as output_file:\n",
    "#     fc = csv.DictWriter(output_file, \n",
    "#                         fieldnames=final_result[0].keys(),\n",
    "\n",
    "#                        )\n",
    "#     fc.writeheader()\n",
    "#     fc.writerows(final_result)"
   ]
  },
  {
   "cell_type": "markdown",
   "metadata": {},
   "source": [
    "# 2nd Crawling the papers of each user"
   ]
  },
  {
   "cell_type": "code",
   "execution_count": 6,
   "metadata": {},
   "outputs": [],
   "source": [
    "url = 'https://scholar.google.co.uk/citations?view_op=view_org&hl=en&org=9117984065169182779'\n",
    "   \n",
    "options = Options()\n",
    "options.add_argument(\"start-maximized\")\n",
    "options.add_argument(\"disable-infobars\")\n",
    "options.add_argument(\"--disable-extensions\")\n",
    "driver = webdriver.Chrome( executable_path='C:/Users/giorg/chromedriver_win32/chromedriver.exe')\n",
    "driver.get(url)\n",
    "driver.set_page_load_timeout(5) "
   ]
  },
  {
   "cell_type": "code",
   "execution_count": 7,
   "metadata": {
    "scrolled": true
   },
   "outputs": [
    {
     "name": "stdout",
     "output_type": "stream",
     "text": [
      "499\n",
      "Timothy James Mason, J Phillip Lorimer\n",
      "paper 0 is ok\n",
      "Timothy J Mason, J Phillip Lorimer\n",
      "paper 1 is ok\n",
      "Timothy J Mason, Larysa Paniwnyk, JP Lorimer\n",
      "paper 2 is ok\n",
      "Timothy J Mason, Dietmar Peters\n",
      "paper 3 is ok\n",
      "Timothy J Mason\n",
      "paper 4 is ok\n",
      "Last page reached\n"
     ]
    }
   ],
   "source": [
    "paper_count = 1\n",
    "paper_descriptions = []\n",
    "paper_authors = []\n",
    "paper_titles = []\n",
    "paper_publication_dates = []\n",
    "final_paper_results = []\n",
    "# thing =''\n",
    "breaker = ''\n",
    "continuer = 0\n",
    "\n",
    "while True:\n",
    "        try:\n",
    "            if breaker == driver.find_element_by_xpath('//*[@id=\"gsc_authors_bottom_pag\"]/div/span').text:\n",
    "                break\n",
    "                    \n",
    "            breaker = driver.find_element_by_xpath('//*[@id=\"gsc_authors_bottom_pag\"]/div/span').text\n",
    "            \n",
    "            number_of_profiles = driver.find_elements_by_xpath('//*[@id=\"gsc_sa_ccl\"]/div/div/div/h3/a')\n",
    "            \n",
    "                \n",
    "            for i in range(0, len(number_of_profiles)):\n",
    "                #if continuer == 0 and i < 9: #always add 1\n",
    "                    #continue\n",
    "                names = driver.find_elements_by_xpath('//*[@id=\"gsc_sa_ccl\"]/div/div/div/h3/a')[i] \n",
    "                names.click()\n",
    "                time.sleep(2) \n",
    "\n",
    "                # Releave all the papers\n",
    "                thing=\"\"\n",
    "                while True:\n",
    "                    if driver.find_element_by_xpath('//*[@id=\"gsc_a_nn\"]').text != thing:\n",
    "                        thing = driver.find_element_by_xpath('//*[@id=\"gsc_a_nn\"]').text\n",
    "                        driver.find_element_by_xpath('//*[@id=\"gsc_bpf_more\"]/span/span[2]').click()\n",
    "                        time.sleep(2)\n",
    "                    else:\n",
    "                        break \n",
    "\n",
    "                paper_length = driver.find_elements_by_xpath('//*[@id=\"gsc_a_b\"]/tr/td[1]/a')\n",
    "                print(len(paper_length))\n",
    "                \n",
    "                # Getting info from each paper loop\n",
    "                for i in range(0,len(paper_length)):\n",
    "                    #if continuer == 0 and i < 1:\n",
    "                        #continue\n",
    "                        \n",
    "                    # Click papers            \n",
    "                    papers = driver.find_elements_by_xpath('//*[@id=\"gsc_a_b\"]/tr/td[1]/a')[i]\n",
    "                    papers.click()\n",
    "                    time.sleep(1)\n",
    "                    \n",
    "                    # Get paper title                          \n",
    "                    paper_title = driver.find_element_by_xpath('//*[@id=\"gsc_vcd_title\"]')\n",
    "                    paper_titles.append(paper_title.text)\n",
    "                    #print(paper_titles)\n",
    "                    time.sleep(1)\n",
    "                    \n",
    "                    # Get date\n",
    "                    date = driver.find_element_by_xpath('//*[@id=\"gsc_vcd_table\"]/div[2]/div[2]')\n",
    "                    if date != '':\n",
    "                        paper_publication_dates.append(date.text)\n",
    "                    else:\n",
    "                        date = 'N/A'\n",
    "                        paper_publication_dates.append(date.text)\n",
    "                    time.sleep(1)\n",
    "                    \n",
    "#                     # Get links\n",
    "#                     link = driver.find_element_by_xpath('//*[@id=\"gsc_vcd_title_gg\"]/div/a')\n",
    "#                     if link != '':\n",
    "#                         paper_links.append(link)\n",
    "#                     else:\n",
    "#                         link = 'N/A'\n",
    "#                         paper_links.append(link)\n",
    "#                     print(paper_links)\n",
    "                                                                                       \n",
    "#                     # Get publisher                         \n",
    "#                     publisher = driver.find_element_by_class_name('gsc_vcd_value')\n",
    "#                     if publisher != '':\n",
    "#                         paper_publishers.append(publisher.text)\n",
    "#                     else:\n",
    "#                         publisher = 'N/A'\n",
    "#                         paper_publishers.append(publisher.text)\n",
    "#                     print(paper_publishers)\n",
    "\n",
    "#                     # Get journal\n",
    "#                     journal = driver.find_element_by_xpath('//*[@id=\"gsc_vcd_table\"]/div[3]/div[2]')\n",
    "#                     if journal != '':\n",
    "#                         paper_journals.append(journal.text)\n",
    "#                     else:\n",
    "#                         journal = 'N/A'\n",
    "#                         paper_journals.append(journal.text)\n",
    "\n",
    "                    # Get authors\n",
    "                    author = driver.find_element_by_xpath('//*[@id=\"gsc_vcd_table\"]/div[1]/div[2]')\n",
    "                    paper_authors.append(author.text)\n",
    "                    print(author.text)\n",
    "                    time.sleep(1)\n",
    "\n",
    "                    # Get description\n",
    "                    body = driver.find_element_by_xpath('//*[@id=\"gsc_vcd_table\"]')\n",
    "                    if 'Description' in body.text:\n",
    "                        xPath_description = '//*[@id=\"gsc_vcd_descr\"]'\n",
    "                        description = driver.find_element_by_xpath(xPath_description)\n",
    "                        paper_descriptions.append(description.text)\n",
    "                    else:\n",
    "                        description = 'N/A'\n",
    "                        paper_descriptions.append(description)\n",
    "                    print('paper ' +str(i)+' is ok')\n",
    "\n",
    "                    # Close the paper\n",
    "                    driver.back()\n",
    "                    time.sleep(1)\n",
    "                continuer = 1                           \n",
    "                            \n",
    "                driver.back()                               \n",
    "            next_button = driver.find_element_by_xpath('//*[@id=\"gsc_authors_bottom_pag\"]/div/button[2]')  \n",
    "            next_button.click()\n",
    "            time.sleep(1)\n",
    "                \n",
    "        except (TimeoutException, WebDriverException) as e:\n",
    "            print(\"Last page reached\")\n",
    "            break\n",
    "#driver.quit()"
   ]
  },
  {
   "cell_type": "markdown",
   "metadata": {},
   "source": [
    "# Creating a list of dictionaries with the paper info "
   ]
  },
  {
   "cell_type": "code",
   "execution_count": 8,
   "metadata": {
    "scrolled": true
   },
   "outputs": [
    {
     "ename": "IndexError",
     "evalue": "list index out of range",
     "output_type": "error",
     "traceback": [
      "\u001b[1;31m---------------------------------------------------------------------------\u001b[0m",
      "\u001b[1;31mIndexError\u001b[0m                                Traceback (most recent call last)",
      "\u001b[1;32m<ipython-input-8-b41ba514d015>\u001b[0m in \u001b[0;36m<module>\u001b[1;34m\u001b[0m\n\u001b[0;32m      1\u001b[0m \u001b[1;32mfor\u001b[0m \u001b[0mi\u001b[0m \u001b[1;32min\u001b[0m \u001b[0mrange\u001b[0m\u001b[1;33m(\u001b[0m\u001b[1;36m0\u001b[0m\u001b[1;33m,\u001b[0m\u001b[1;36m88\u001b[0m\u001b[1;33m)\u001b[0m\u001b[1;33m:\u001b[0m\u001b[1;33m\u001b[0m\u001b[1;33m\u001b[0m\u001b[0m\n\u001b[1;32m----> 2\u001b[1;33m     final_paper_results.append({'Paper_Title':paper_titles[i],\n\u001b[0m\u001b[0;32m      3\u001b[0m                                 \u001b[1;34m'Authors'\u001b[0m\u001b[1;33m:\u001b[0m\u001b[0mpaper_authors\u001b[0m\u001b[1;33m[\u001b[0m\u001b[0mi\u001b[0m\u001b[1;33m]\u001b[0m\u001b[1;33m,\u001b[0m\u001b[1;33m\u001b[0m\u001b[1;33m\u001b[0m\u001b[0m\n\u001b[0;32m      4\u001b[0m                                 \u001b[1;34m'Publication_Date'\u001b[0m\u001b[1;33m:\u001b[0m\u001b[0mpaper_publication_dates\u001b[0m\u001b[1;33m[\u001b[0m\u001b[0mi\u001b[0m\u001b[1;33m]\u001b[0m\u001b[1;33m,\u001b[0m\u001b[1;33m\u001b[0m\u001b[1;33m\u001b[0m\u001b[0m\n\u001b[0;32m      5\u001b[0m                                 \u001b[1;34m'Descriptions'\u001b[0m\u001b[1;33m:\u001b[0m\u001b[0mpaper_descriptions\u001b[0m\u001b[1;33m[\u001b[0m\u001b[0mi\u001b[0m\u001b[1;33m]\u001b[0m\u001b[1;33m\u001b[0m\u001b[1;33m\u001b[0m\u001b[0m\n",
      "\u001b[1;31mIndexError\u001b[0m: list index out of range"
     ]
    }
   ],
   "source": [
    "for i in range(0,88):\n",
    "    final_paper_results.append({'Paper_Title':paper_titles[i],\n",
    "                                'Authors':paper_authors[i],\n",
    "                                'Publication_Date':paper_publication_dates[i],\n",
    "                                'Descriptions':paper_descriptions[i]\n",
    "                                #'Paper_link':paper_links[i]\n",
    "                               })\n",
    "final_paper_results"
   ]
  },
  {
   "cell_type": "markdown",
   "metadata": {},
   "source": [
    "# Creating a csv file for saving the crawled papers"
   ]
  },
  {
   "cell_type": "code",
   "execution_count": null,
   "metadata": {},
   "outputs": [],
   "source": [
    "# with open('Coventry_University_papers2.csv', 'w', encoding='utf8', newline='') as output_file:\n",
    "#     fc = csv.DictWriter(output_file, \n",
    "#                         fieldnames=final_paper_results[0].keys(),\n",
    "\n",
    "#                        )\n",
    "#     fc.writeheader()\n",
    "#     fc.writerows(final_paper_results)"
   ]
  }
 ],
 "metadata": {
  "kernelspec": {
   "display_name": "Python 3",
   "language": "python",
   "name": "python3"
  },
  "language_info": {
   "codemirror_mode": {
    "name": "ipython",
    "version": 3
   },
   "file_extension": ".py",
   "mimetype": "text/x-python",
   "name": "python",
   "nbconvert_exporter": "python",
   "pygments_lexer": "ipython3",
   "version": "3.8.5"
  }
 },
 "nbformat": 4,
 "nbformat_minor": 4
}
